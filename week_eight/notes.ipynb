{
 "cells": [
  {
   "cell_type": "markdown",
   "metadata": {},
   "source": [
    "# Notes on Week 8 Lectures: Building Blocks"
   ]
  },
  {
   "cell_type": "markdown",
   "metadata": {},
   "source": [
    "## Matrices"
   ]
  },
  {
   "cell_type": "markdown",
   "metadata": {},
   "source": [
    "### M1: Introduction to Vectors and Matrices"
   ]
  },
  {
   "cell_type": "markdown",
   "metadata": {},
   "source": [
    "To denote the $i^{\\text{th}}$ row of matrix $A$ by\n",
    "\n",
    "$$A_{i \\bullet}$$\n",
    "\n",
    "Similarly, we denote the $j^{\\text{th}}$ column of matrix $A$ by\n",
    "\n",
    "$$A_{\\bullet j}$$"
   ]
  },
  {
   "cell_type": "markdown",
   "metadata": {},
   "source": [
    "If $v$ is a $(p \\times 1)$ column-vector and $x$ is a $(1 \\times p)$ row-vector, then\n",
    "\n",
    "$$v \\cdot x = Y$$\n",
    "\n",
    "is called the **outer product** and $Y$ is a $(p \\times q)$ matrix."
   ]
  },
  {
   "cell_type": "markdown",
   "metadata": {},
   "source": [
    "We denote a column-vector whose entries are all 1 by $\\iota$. That is\n",
    "\n",
    "$$\\iota = \\begin{bmatrix} 1 \\\\ \\vdots \\\\ 1 \\end{bmatrix}$$\n",
    "\n",
    "For this course, we sometimes refer to this as **the unit vector** (note this is in contrast to the typical meaning of unit vector: $\\vert v \\vert = 1$)."
   ]
  },
  {
   "cell_type": "markdown",
   "metadata": {},
   "source": [
    "### M2: Special Matrix Operations"
   ]
  },
  {
   "cell_type": "markdown",
   "metadata": {},
   "source": [
    "For this course, the transpose of $A$ may be denoted $A'$ or by $A^T$."
   ]
  },
  {
   "cell_type": "markdown",
   "metadata": {},
   "source": [
    "### M3: Vectors and Differentiation"
   ]
  },
  {
   "cell_type": "markdown",
   "metadata": {},
   "source": [
    "The gradient of a function $f(\\mathbf{b}) = f(b_1, \\ldots, b_q)$ is the column-vector\n",
    "\n",
    "$$ \\frac{\\partial f}{\\partial \\mathbf{b}} (\\mathbf{b}) = \\begin{bmatrix} \\frac{\\partial f}{\\partial b_1} (\\mathbf{b}) \\\\ \\vdots \\\\ \\frac{\\partial f}{\\partial b_q} (\\mathbf{b}) \\end{bmatrix} $$"
   ]
  },
  {
   "cell_type": "markdown",
   "metadata": {},
   "source": [
    "The **Hessian** is given by\n",
    "\n",
    "$$ \\frac{\\partial f}{\\partial \\mathbf{b} \\partial \\mathbf{b}^T} (\\mathbf{b}) = \\begin{bmatrix} \\frac{\\partial f}{\\partial b_1 \\partial b_1} (\\mathbf{b}) & \\ldots & \\frac{\\partial f}{\\partial b_1 \\partial b_q} (\\mathbf{b}) \\\\ \\vdots & \\ddots & \\vdots \\\\ \\frac{\\partial f}{\\partial b_q \\partial b_1} (\\mathbf{b}) & \\ldots & \\frac{\\partial f}{\\partial b_q \\partial b_q} (\\mathbf{b}) \\end{bmatrix} $$\n",
    "\n",
    "When $f$ is smooth the Hessian is symmetric."
   ]
  },
  {
   "attachments": {},
   "cell_type": "markdown",
   "metadata": {},
   "source": [
    "## Probability"
   ]
  },
  {
   "attachments": {},
   "cell_type": "markdown",
   "metadata": {},
   "source": [
    "### P1: Random Variables"
   ]
  },
  {
   "attachments": {},
   "cell_type": "markdown",
   "metadata": {},
   "source": [
    "When given $n$ random variables, there are $\\frac{n(n-1)}{2}$ covariance combinations of different random variables since\n",
    "\n",
    "$$ {n \\choose 2} = \\frac{n!}{2!(n-2)!} = \\frac{n(n-1)}{2} $$\n",
    "\n",
    "and, of course, $n$ variances."
   ]
  },
  {
   "attachments": {},
   "cell_type": "markdown",
   "metadata": {},
   "source": [
    "We denote the covariance matrix by\n",
    "\n",
    "$$\n",
    "    \\Sigma =\n",
    "        \\begin{bmatrix}\n",
    "            \\sigma_{11}^2 & \\ldots & \\sigma_{1n}^2 \\\\\n",
    "            \\vdots & \\ddots & \\vdots \\\\\n",
    "            \\sigma_{n1}^2 & \\ldots & \\sigma_{nn}^2\n",
    "        \\end{bmatrix}\n",
    "$$"
   ]
  }
 ],
 "metadata": {
  "kernelspec": {
   "display_name": "Python 3 (ipykernel)",
   "language": "python",
   "name": "python3"
  },
  "language_info": {
   "codemirror_mode": {
    "name": "ipython",
    "version": 3
   },
   "file_extension": ".py",
   "mimetype": "text/x-python",
   "name": "python",
   "nbconvert_exporter": "python",
   "pygments_lexer": "ipython3",
   "version": "3.9.6"
  },
  "vscode": {
   "interpreter": {
    "hash": "b8fa3177836abb39d5e3b555ef652ac0e569b7e89a422512b518d324b09235a4"
   }
  }
 },
 "nbformat": 4,
 "nbformat_minor": 2
}
