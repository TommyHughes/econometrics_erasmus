{
 "cells": [
  {
   "attachments": {},
   "cell_type": "markdown",
   "metadata": {},
   "source": [
    "# Notes on Week 8 Lectures: Building Blocks"
   ]
  },
  {
   "attachments": {},
   "cell_type": "markdown",
   "metadata": {},
   "source": [
    "## Matrices"
   ]
  },
  {
   "attachments": {},
   "cell_type": "markdown",
   "metadata": {},
   "source": [
    "### M1: Introduction to Vectors and Matrices"
   ]
  },
  {
   "attachments": {},
   "cell_type": "markdown",
   "metadata": {},
   "source": [
    "To denote the $i^{\\text{th}}$ row of matrix $A$ by\n",
    "\n",
    "$$A_{i \\bullet}$$\n",
    "\n",
    "Similarly, we denote the $j^{\\text{th}}$ column of matrix $A$ by\n",
    "\n",
    "$$A_{\\bullet j}$$"
   ]
  },
  {
   "attachments": {},
   "cell_type": "markdown",
   "metadata": {},
   "source": [
    "If $v$ is a $(p \\times 1)$ column-vector and $x$ is a $(1 \\times p)$ row-vector, then\n",
    "\n",
    "$$v \\cdot x = Y$$\n",
    "\n",
    "is called the **outer product** and $Y$ is a $(p \\times q)$ matrix."
   ]
  },
  {
   "attachments": {},
   "cell_type": "markdown",
   "metadata": {},
   "source": [
    "We denote a column-vector whose entries are all 1 by $\\iota$. That is\n",
    "\n",
    "$$\\iota = \\begin{bmatrix} 1 \\\\ \\vdots \\\\ 1 \\end{bmatrix}$$\n",
    "\n",
    "For this course, we sometimes refer to this as **the unit vector** (note this is in contrast to the typical meaning of unit vector: $\\vert v \\vert = 1$)."
   ]
  },
  {
   "attachments": {},
   "cell_type": "markdown",
   "metadata": {},
   "source": [
    "### M2: Special Matrix Operations"
   ]
  },
  {
   "attachments": {},
   "cell_type": "markdown",
   "metadata": {},
   "source": [
    "For this course, the transpose of $A$ may be denoted $A'$ or by $A^T$."
   ]
  }
 ],
 "metadata": {
  "kernelspec": {
   "display_name": "econometrics_erasmus",
   "language": "python",
   "name": "python3"
  },
  "language_info": {
   "name": "python",
   "version": "3.10.2"
  },
  "orig_nbformat": 4,
  "vscode": {
   "interpreter": {
    "hash": "b8fa3177836abb39d5e3b555ef652ac0e569b7e89a422512b518d324b09235a4"
   }
  }
 },
 "nbformat": 4,
 "nbformat_minor": 2
}
